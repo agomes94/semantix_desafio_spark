{
 "cells": [
  {
   "cell_type": "markdown",
   "metadata": {},
   "source": [
    "### Projeto Final de Spark - Avançado\n",
    "#### Campanha Nacional de Vacinação contra Covid-19"
   ]
  },
  {
   "cell_type": "markdown",
   "metadata": {},
   "source": [
    "Autor: Arthur Freitas Gomes\n",
    "\n",
    "Turma: Semantix Academy - Big Data Engineer 04-21\n",
    "\n",
    "Professor: Rodrigo Rebouças"
   ]
  },
  {
   "cell_type": "markdown",
   "metadata": {},
   "source": [
    "##### Nível Avançado:\n",
    "\n",
    "Replicar as visualizações do site “https://covid.saude.gov.br/”, porém acessando diretamente a API de Elastic.\n",
    "\n",
    "Link oficial para todas as informações:  https://opendatasus.saude.gov.br/dataset/covid-19-vacinacao\n",
    "\n",
    "Informações para se conectar ao cluster:\n",
    "\n",
    "    > URL https://imunizacao-es.saude.gov.br/desc-imunizacao\n",
    "    > Nome do índice: desc-imunizacao\n",
    "    > Credenciais de acesso\n",
    "    > Usuário: imunizacao_public\n",
    "    > Senha: qlto5t&7r_@+#Tlstigi"
   ]
  },
  {
   "cell_type": "code",
   "execution_count": 58,
   "metadata": {},
   "outputs": [],
   "source": [
    "import requests\n",
    "import pandas as pd\n",
    "import time"
   ]
  },
  {
   "cell_type": "code",
   "execution_count": 59,
   "metadata": {},
   "outputs": [],
   "source": [
    "#Acesso inicial para gravar '_scroll_id'\n",
    "covid_API = requests.get('https://imunizacao-es.saude.gov.br/_search?scroll=1m',\n",
    "                         auth=requests.auth.HTTPBasicAuth('imunizacao_public', 'qlto5t&7r_@+#Tlstigi'),\n",
    "                         params={\"size\":10000})"
   ]
  },
  {
   "cell_type": "code",
   "execution_count": 60,
   "metadata": {},
   "outputs": [],
   "source": [
    "#covid_API.json()"
   ]
  },
  {
   "cell_type": "code",
   "execution_count": 61,
   "metadata": {},
   "outputs": [
    {
     "data": {
      "text/plain": [
       "'FGluY2x1ZGVfY29udGV4dF91dWlkDnF1ZXJ5VGhlbkZldGNoAxZNS1hZTVE5c1RFV1d5TnBQdV94RHVnAAAAAG15FTQWVGNTY2RHVmdRTUtxVjBiQXFFMEJCURZlR0trMDNRRlFreTlFRWtxel9vME1BAAAAAGR0XnoWeUtZa0E0b1ZTZlNjam5veUxfS1ZHdxYycGRZR2c4SVNXeWpFSkh6c0JjXzFBAAAAAG5vf5MWV3hBS3dIbGpTWkNDV0dBYWMwUUU0dw=='"
      ]
     },
     "execution_count": 61,
     "metadata": {},
     "output_type": "execute_result"
    }
   ],
   "source": [
    "#'_scroll_id' = id temporário que será utilizado para navegar nos scrolls com 10000 registros cada\n",
    "covid_API.json()['_scroll_id']"
   ]
  },
  {
   "cell_type": "code",
   "execution_count": 62,
   "metadata": {},
   "outputs": [
    {
     "data": {
      "text/plain": [
       "10000"
      ]
     },
     "execution_count": 62,
     "metadata": {},
     "output_type": "execute_result"
    }
   ],
   "source": [
    "#Número de registros por Scroll\n",
    "len(covid_API.json()['hits']['hits'])"
   ]
  },
  {
   "cell_type": "code",
   "execution_count": 63,
   "metadata": {},
   "outputs": [],
   "source": [
    "#Scroll = 0 \n",
    "\n",
    "count_scroll = 0\n",
    "\n",
    "scroll_id = covid_API.json()['_scroll_id']\n",
    "covid_API_scroll = requests.get('https://imunizacao-es.saude.gov.br/_search/scroll',\n",
    "                                auth=requests.auth.HTTPBasicAuth('imunizacao_public', 'qlto5t&7r_@+#Tlstigi'),\n",
    "                                params={\"scroll_id\":scroll_id, \"scroll\":'1m'})\n",
    "\n",
    "#recebe infomações HITS, seleciona dict _source\n",
    "df_covid = pd.DataFrame([x['_source'] for x in covid_API_scroll.json()['hits']['hits']])"
   ]
  },
  {
   "cell_type": "code",
   "execution_count": 66,
   "metadata": {},
   "outputs": [
    {
     "name": "stdout",
     "output_type": "stream",
     "text": [
      "CPU times: user 7.16 s, sys: 323 ms, total: 7.48 s\n",
      "Wall time: 11 s\n"
     ]
    }
   ],
   "source": [
    "%%time\n",
    "#Loop para repetir processo anterior até hit  = 0\n",
    "\n",
    "while count_scroll < 10:\n",
    "#while len(covid_API_scroll.json()['hits']['hits']) != 0:\n",
    "    scroll_id = covid_API.json()['_scroll_id']\n",
    "    covid_API_scroll = requests.get('https://imunizacao-es.saude.gov.br/_search/scroll', auth=requests.auth.HTTPBasicAuth('imunizacao_public', 'qlto5t&7r_@+#Tlstigi'), params={\"scroll_id\":scroll_id, \"scroll\":'1m'})\n",
    "\n",
    "    #covid_API_scroll.json()\n",
    "    #covid_API_scroll.json()['hits']['hits']\n",
    "    \n",
    "    df_covid = df_covid.append([x['_source'] for x in covid_API_scroll.json()['hits']['hits']])\n",
    "    count_scroll += 1\n",
    "   "
   ]
  },
  {
   "cell_type": "code",
   "execution_count": 67,
   "metadata": {},
   "outputs": [],
   "source": [
    "%%time\n",
    "covid_vac = spark.createDataFrame(df_covid)"
   ]
  },
  {
   "cell_type": "code",
   "execution_count": 68,
   "metadata": {},
   "outputs": [
    {
     "data": {
      "text/plain": [
       "110000"
      ]
     },
     "execution_count": 68,
     "metadata": {},
     "output_type": "execute_result"
    }
   ],
   "source": [
    "covid_vac.count()"
   ]
  },
  {
   "cell_type": "markdown",
   "metadata": {},
   "source": [
    "##### Próximos passos:\n",
    "\n",
    "    > conseguir dubir todos os hits;\n",
    "    > criar visualizações."
   ]
  }
 ],
 "metadata": {
  "kernelspec": {
   "display_name": "PySpark",
   "language": "python",
   "name": "pyspark"
  },
  "language_info": {
   "codemirror_mode": {
    "name": "ipython",
    "version": 3
   },
   "file_extension": ".py",
   "mimetype": "text/x-python",
   "name": "python",
   "nbconvert_exporter": "python",
   "pygments_lexer": "ipython3",
   "version": "3.6.10"
  }
 },
 "nbformat": 4,
 "nbformat_minor": 2
}
