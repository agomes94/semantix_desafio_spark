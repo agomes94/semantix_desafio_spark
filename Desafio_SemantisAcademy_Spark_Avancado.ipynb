{
 "cells": [
  {
   "cell_type": "markdown",
   "metadata": {},
   "source": [
    "### Projeto Final de Spark - Avançado\n",
    "#### Campanha Nacional de Vacinação contra Covid-19"
   ]
  },
  {
   "cell_type": "markdown",
   "metadata": {},
   "source": [
    "Autor: Arthur Freitas Gomes\n",
    "\n",
    "Turma: Semantix Academy - Big Data Engineer 04-21\n",
    "\n",
    "Professor: Rodrigo Rebouças"
   ]
  },
  {
   "cell_type": "markdown",
   "metadata": {},
   "source": [
    "##### Nível Avançado:\n",
    "\n",
    "Replicar as visualizações do site “https://covid.saude.gov.br/”, porém acessando diretamente a API de Elastic.\n",
    "\n",
    "Link oficial para todas as informações:  https://opendatasus.saude.gov.br/dataset/covid-19-vacinacao\n",
    "\n",
    "Informações para se conectar ao cluster:\n",
    "\n",
    "    > URL https://imunizacao-es.saude.gov.br/desc-imunizacao\n",
    "    > Nome do índice: desc-imunizacao\n",
    "    > Credenciais de acesso\n",
    "    > Usuário: imunizacao_public\n",
    "    > Senha: qlto5t&7r_@+#Tlstigi"
   ]
  },
  {
   "cell_type": "code",
   "execution_count": 1,
   "metadata": {},
   "outputs": [],
   "source": [
    "import requests\n",
    "import pandas as pd\n",
    "import time"
   ]
  },
  {
   "cell_type": "code",
   "execution_count": 2,
   "metadata": {},
   "outputs": [],
   "source": [
    "#Acesso inicial para gravar '_scroll_id'\n",
    "covid_API = requests.get('https://imunizacao-es.saude.gov.br/_search?scroll=1m',\n",
    "                         auth=requests.auth.HTTPBasicAuth('imunizacao_public', 'qlto5t&7r_@+#Tlstigi'),\n",
    "                         params={\"size\":10000})"
   ]
  },
  {
   "cell_type": "code",
   "execution_count": 3,
   "metadata": {},
   "outputs": [],
   "source": [
    "#covid_API.json()"
   ]
  },
  {
   "cell_type": "code",
   "execution_count": 4,
   "metadata": {},
   "outputs": [
    {
     "data": {
      "text/plain": [
       "'FGluY2x1ZGVfY29udGV4dF91dWlkDnF1ZXJ5VGhlbkZldGNoAxZOaHUxUUotT1FpS2N4M3dwaEFYM3J3AAAAAG2Pt2IWanNYbEN0UjlUUXVLVXdrcGo5cE43ZxZlR0trMDNRRlFreTlFRWtxel9vME1BAAAAAGRvjiwWeUtZa0E0b1ZTZlNjam5veUxfS1ZHdxYycGRZR2c4SVNXeWpFSkh6c0JjXzFBAAAAAG5qqMIWV3hBS3dIbGpTWkNDV0dBYWMwUUU0dw=='"
      ]
     },
     "execution_count": 4,
     "metadata": {},
     "output_type": "execute_result"
    }
   ],
   "source": [
    "#'_scroll_id' = id temporário que será utilizado para navegar nos scrolls com 10000 registros cada\n",
    "covid_API.json()['_scroll_id']"
   ]
  },
  {
   "cell_type": "code",
   "execution_count": 5,
   "metadata": {},
   "outputs": [
    {
     "data": {
      "text/plain": [
       "10000"
      ]
     },
     "execution_count": 5,
     "metadata": {},
     "output_type": "execute_result"
    }
   ],
   "source": [
    "#Número de registros por Scroll\n",
    "len(covid_API.json()['hits']['hits'])"
   ]
  },
  {
   "cell_type": "code",
   "execution_count": 6,
   "metadata": {},
   "outputs": [],
   "source": [
    "#Scroll = 0 \n",
    "\n",
    "count_scroll = 0\n",
    "\n",
    "scroll_id = covid_API.json()['_scroll_id']\n",
    "covid_API_scroll = requests.get('https://imunizacao-es.saude.gov.br/_search/scroll',\n",
    "                                auth=requests.auth.HTTPBasicAuth('imunizacao_public', 'qlto5t&7r_@+#Tlstigi'),\n",
    "                                params={\"scroll_id\":scroll_id, \"scroll\":'1m'})\n",
    "\n",
    "#recebe infomações HITS, seleciona dict _source e salva em um json\n",
    "pd.DataFrame([x['_source'] for x in covid_API_scroll.json()['hits']['hits']]).to_json('api_covid/covid_scroll_'+str(count_scroll)+'.json')"
   ]
  },
  {
   "cell_type": "code",
   "execution_count": 7,
   "metadata": {},
   "outputs": [
    {
     "name": "stdout",
     "output_type": "stream",
     "text": [
      "CPU times: user 6.18 s, sys: 395 ms, total: 6.57 s\n",
      "Wall time: 13.1 s\n"
     ]
    }
   ],
   "source": [
    "%%time\n",
    "#Loop para repetir processo anterior até hit  = 0\n",
    "\n",
    "\"\"\"\n",
    "Cada arquivo .json está com ~8Mb e temos 116.089.044 hits, ou seja, 11.608 arquivos, para o exemplo limitei a 10 arquivos\n",
    "\"\"\"\n",
    "\n",
    "while count_scroll < 10:\n",
    "#while len(covid_API_scroll.json()['hits']['hits']) != 0:\n",
    "    scroll_id = covid_API.json()['_scroll_id']\n",
    "    covid_API_scroll = requests.get('https://imunizacao-es.saude.gov.br/_search/scroll', auth=requests.auth.HTTPBasicAuth('imunizacao_public', 'qlto5t&7r_@+#Tlstigi'), params={\"scroll_id\":scroll_id, \"scroll\":'1m'})\n",
    "\n",
    "    #covid_API_scroll.json()\n",
    "    #covid_API_scroll.json()['hits']['hits']\n",
    "    \n",
    "    count_scroll += 1\n",
    "    pd.DataFrame([x['_source'] for x in covid_API_scroll.json()['hits']['hits']]).to_json('api_covid/covid_scroll_'+str(count_scroll)+'.json')"
   ]
  },
  {
   "cell_type": "code",
   "execution_count": 8,
   "metadata": {},
   "outputs": [
    {
     "name": "stdout",
     "output_type": "stream",
     "text": [
      "covid_scroll_0.json   covid_scroll_3.json  covid_scroll_7.json\r\n",
      "covid_scroll_1.json   covid_scroll_4.json  covid_scroll_8.json\r\n",
      "covid_scroll_10.json  covid_scroll_5.json  covid_scroll_9.json\r\n",
      "covid_scroll_2.json   covid_scroll_6.json\r\n"
     ]
    }
   ],
   "source": [
    "!ls api_covid/"
   ]
  },
  {
   "cell_type": "code",
   "execution_count": 9,
   "metadata": {},
   "outputs": [
    {
     "data": {
      "text/html": [
       "<div>\n",
       "<style scoped>\n",
       "    .dataframe tbody tr th:only-of-type {\n",
       "        vertical-align: middle;\n",
       "    }\n",
       "\n",
       "    .dataframe tbody tr th {\n",
       "        vertical-align: top;\n",
       "    }\n",
       "\n",
       "    .dataframe thead th {\n",
       "        text-align: right;\n",
       "    }\n",
       "</style>\n",
       "<table border=\"1\" class=\"dataframe\">\n",
       "  <thead>\n",
       "    <tr style=\"text-align: right;\">\n",
       "      <th></th>\n",
       "      <th>estabelecimento_razaoSocial</th>\n",
       "      <th>vacina_dataAplicacao</th>\n",
       "      <th>vacina_grupoAtendimento_codigo</th>\n",
       "      <th>estabelecimento_valor</th>\n",
       "      <th>@timestamp</th>\n",
       "      <th>sistema_origem</th>\n",
       "      <th>vacina_lote</th>\n",
       "      <th>id_sistema_origem</th>\n",
       "      <th>estalecimento_noFantasia</th>\n",
       "      <th>paciente_endereco_coIbgeMunicipio</th>\n",
       "      <th>...</th>\n",
       "      <th>vacina_descricao_dose</th>\n",
       "      <th>vacina_fabricante_nome</th>\n",
       "      <th>vacina_categoria_codigo</th>\n",
       "      <th>paciente_endereco_uf</th>\n",
       "      <th>vacina_categoria_nome</th>\n",
       "      <th>redshift</th>\n",
       "      <th>vacina_nome</th>\n",
       "      <th>paciente_racaCor_valor</th>\n",
       "      <th>paciente_id</th>\n",
       "      <th>paciente_enumSexoBiologico</th>\n",
       "    </tr>\n",
       "  </thead>\n",
       "  <tbody>\n",
       "    <tr>\n",
       "      <th>0</th>\n",
       "      <td>PREFEITURA MUNICIPAL DE PRAIA GRANDE</td>\n",
       "      <td>2021-03-20T00:00:00.000Z</td>\n",
       "      <td>203</td>\n",
       "      <td>2305658</td>\n",
       "      <td>2021-07-09T18:41:46.638Z</td>\n",
       "      <td>Novo PNI</td>\n",
       "      <td>210063</td>\n",
       "      <td>16341</td>\n",
       "      <td>UNIDADE DE SAUDE CENTRAL</td>\n",
       "      <td>421380</td>\n",
       "      <td>...</td>\n",
       "      <td>1ª Dose</td>\n",
       "      <td>FUNDACAO BUTANTAN</td>\n",
       "      <td>2</td>\n",
       "      <td>SC</td>\n",
       "      <td>Faixa Etária</td>\n",
       "      <td>v2</td>\n",
       "      <td>Covid-19-Coronavac-Sinovac/Butantan</td>\n",
       "      <td>BRANCA</td>\n",
       "      <td>cb93ec22465279865c1e2f12b45344226035fdf3c078f0...</td>\n",
       "      <td>M</td>\n",
       "    </tr>\n",
       "    <tr>\n",
       "      <th>1</th>\n",
       "      <td>MUNICIPIO DE BOA VISTA</td>\n",
       "      <td>2021-03-20T00:00:00.000Z</td>\n",
       "      <td>203</td>\n",
       "      <td>9193235</td>\n",
       "      <td>2021-07-09T18:41:46.638Z</td>\n",
       "      <td>Novo PNI</td>\n",
       "      <td>200278</td>\n",
       "      <td>16341</td>\n",
       "      <td>COORDENACAO MUNICIPAL DE IMUNIZACAO</td>\n",
       "      <td>140010</td>\n",
       "      <td>...</td>\n",
       "      <td>1ª Dose</td>\n",
       "      <td>FUNDACAO BUTANTAN</td>\n",
       "      <td>2</td>\n",
       "      <td>RR</td>\n",
       "      <td>Faixa Etária</td>\n",
       "      <td>v2</td>\n",
       "      <td>Covid-19-Coronavac-Sinovac/Butantan</td>\n",
       "      <td>PARDA</td>\n",
       "      <td>6e0f5e0f4fc5fb3bd7f8b85d2f61314a88b55311dd1b50...</td>\n",
       "      <td>M</td>\n",
       "    </tr>\n",
       "    <tr>\n",
       "      <th>2</th>\n",
       "      <td>PREFEITURA MUNICIPAL DE POUSO ALEGRE</td>\n",
       "      <td>2021-03-17T00:00:00.000Z</td>\n",
       "      <td>916</td>\n",
       "      <td>2211610</td>\n",
       "      <td>2021-07-09T18:41:46.638Z</td>\n",
       "      <td>Novo PNI</td>\n",
       "      <td>210018A</td>\n",
       "      <td>16341</td>\n",
       "      <td>UBS ISMAEL LIBANIO UBS PUERICULTURA P ALEGRE</td>\n",
       "      <td>313150</td>\n",
       "      <td>...</td>\n",
       "      <td>2ª Dose</td>\n",
       "      <td>FUNDACAO BUTANTAN</td>\n",
       "      <td>9</td>\n",
       "      <td>MG</td>\n",
       "      <td>Trabalhadores de Saúde</td>\n",
       "      <td>v2</td>\n",
       "      <td>Covid-19-Coronavac-Sinovac/Butantan</td>\n",
       "      <td>BRANCA</td>\n",
       "      <td>1e4b602c9c95f635dca23c9e27d7a29c853e39fe147afe...</td>\n",
       "      <td>M</td>\n",
       "    </tr>\n",
       "    <tr>\n",
       "      <th>3</th>\n",
       "      <td>PREFEITURA MUNICIPAL DE SAPUCAIA DO SUL</td>\n",
       "      <td>2021-03-20T00:00:00.000Z</td>\n",
       "      <td>203</td>\n",
       "      <td>3922448</td>\n",
       "      <td>2021-07-09T18:41:46.639Z</td>\n",
       "      <td>Novo PNI</td>\n",
       "      <td>210074</td>\n",
       "      <td>16341</td>\n",
       "      <td>VIGILANCIA EM SAUDE</td>\n",
       "      <td>432000</td>\n",
       "      <td>...</td>\n",
       "      <td>1ª Dose</td>\n",
       "      <td>FUNDACAO BUTANTAN</td>\n",
       "      <td>2</td>\n",
       "      <td>RS</td>\n",
       "      <td>Faixa Etária</td>\n",
       "      <td>v2</td>\n",
       "      <td>Covid-19-Coronavac-Sinovac/Butantan</td>\n",
       "      <td>BRANCA</td>\n",
       "      <td>01be20fe02b809aa41e7524e60146936ba2427c44dc50b...</td>\n",
       "      <td>F</td>\n",
       "    </tr>\n",
       "    <tr>\n",
       "      <th>4</th>\n",
       "      <td>PREF M MARANGUAPE</td>\n",
       "      <td>2021-02-18T00:00:00.000Z</td>\n",
       "      <td>301</td>\n",
       "      <td>2373750</td>\n",
       "      <td>2021-07-09T18:41:46.640Z</td>\n",
       "      <td>Novo PNI</td>\n",
       "      <td>202010034</td>\n",
       "      <td>16341</td>\n",
       "      <td>UBS MARIA FRANCINA DE ARAUJO</td>\n",
       "      <td>230770</td>\n",
       "      <td>...</td>\n",
       "      <td>2ª Dose</td>\n",
       "      <td>FUNDACAO BUTANTAN</td>\n",
       "      <td>3</td>\n",
       "      <td>CE</td>\n",
       "      <td>Pessoas de 60 anos ou mais institucionalizadas</td>\n",
       "      <td>v2</td>\n",
       "      <td>Covid-19-Coronavac-Sinovac/Butantan</td>\n",
       "      <td>PARDA</td>\n",
       "      <td>70645e8d7b3df120c746db62b3dabbf65b23bebbe00a06...</td>\n",
       "      <td>F</td>\n",
       "    </tr>\n",
       "  </tbody>\n",
       "</table>\n",
       "<p>5 rows × 37 columns</p>\n",
       "</div>"
      ],
      "text/plain": [
       "               estabelecimento_razaoSocial      vacina_dataAplicacao  \\\n",
       "0     PREFEITURA MUNICIPAL DE PRAIA GRANDE  2021-03-20T00:00:00.000Z   \n",
       "1                   MUNICIPIO DE BOA VISTA  2021-03-20T00:00:00.000Z   \n",
       "2     PREFEITURA MUNICIPAL DE POUSO ALEGRE  2021-03-17T00:00:00.000Z   \n",
       "3  PREFEITURA MUNICIPAL DE SAPUCAIA DO SUL  2021-03-20T00:00:00.000Z   \n",
       "4                        PREF M MARANGUAPE  2021-02-18T00:00:00.000Z   \n",
       "\n",
       "   vacina_grupoAtendimento_codigo  estabelecimento_valor  \\\n",
       "0                             203                2305658   \n",
       "1                             203                9193235   \n",
       "2                             916                2211610   \n",
       "3                             203                3922448   \n",
       "4                             301                2373750   \n",
       "\n",
       "                 @timestamp sistema_origem vacina_lote  id_sistema_origem  \\\n",
       "0  2021-07-09T18:41:46.638Z       Novo PNI      210063              16341   \n",
       "1  2021-07-09T18:41:46.638Z       Novo PNI      200278              16341   \n",
       "2  2021-07-09T18:41:46.638Z       Novo PNI     210018A              16341   \n",
       "3  2021-07-09T18:41:46.639Z       Novo PNI      210074              16341   \n",
       "4  2021-07-09T18:41:46.640Z       Novo PNI   202010034              16341   \n",
       "\n",
       "                       estalecimento_noFantasia  \\\n",
       "0                      UNIDADE DE SAUDE CENTRAL   \n",
       "1           COORDENACAO MUNICIPAL DE IMUNIZACAO   \n",
       "2  UBS ISMAEL LIBANIO UBS PUERICULTURA P ALEGRE   \n",
       "3                           VIGILANCIA EM SAUDE   \n",
       "4                  UBS MARIA FRANCINA DE ARAUJO   \n",
       "\n",
       "  paciente_endereco_coIbgeMunicipio  ... vacina_descricao_dose  \\\n",
       "0                            421380  ...               1ª Dose   \n",
       "1                            140010  ...               1ª Dose   \n",
       "2                            313150  ...               2ª Dose   \n",
       "3                            432000  ...               1ª Dose   \n",
       "4                            230770  ...               2ª Dose   \n",
       "\n",
       "  vacina_fabricante_nome vacina_categoria_codigo paciente_endereco_uf  \\\n",
       "0      FUNDACAO BUTANTAN                       2                   SC   \n",
       "1      FUNDACAO BUTANTAN                       2                   RR   \n",
       "2      FUNDACAO BUTANTAN                       9                   MG   \n",
       "3      FUNDACAO BUTANTAN                       2                   RS   \n",
       "4      FUNDACAO BUTANTAN                       3                   CE   \n",
       "\n",
       "                            vacina_categoria_nome  redshift  \\\n",
       "0                                    Faixa Etária        v2   \n",
       "1                                    Faixa Etária        v2   \n",
       "2                          Trabalhadores de Saúde        v2   \n",
       "3                                    Faixa Etária        v2   \n",
       "4  Pessoas de 60 anos ou mais institucionalizadas        v2   \n",
       "\n",
       "                           vacina_nome paciente_racaCor_valor  \\\n",
       "0  Covid-19-Coronavac-Sinovac/Butantan                 BRANCA   \n",
       "1  Covid-19-Coronavac-Sinovac/Butantan                  PARDA   \n",
       "2  Covid-19-Coronavac-Sinovac/Butantan                 BRANCA   \n",
       "3  Covid-19-Coronavac-Sinovac/Butantan                 BRANCA   \n",
       "4  Covid-19-Coronavac-Sinovac/Butantan                  PARDA   \n",
       "\n",
       "                                         paciente_id  \\\n",
       "0  cb93ec22465279865c1e2f12b45344226035fdf3c078f0...   \n",
       "1  6e0f5e0f4fc5fb3bd7f8b85d2f61314a88b55311dd1b50...   \n",
       "2  1e4b602c9c95f635dca23c9e27d7a29c853e39fe147afe...   \n",
       "3  01be20fe02b809aa41e7524e60146936ba2427c44dc50b...   \n",
       "4  70645e8d7b3df120c746db62b3dabbf65b23bebbe00a06...   \n",
       "\n",
       "  paciente_enumSexoBiologico  \n",
       "0                          M  \n",
       "1                          M  \n",
       "2                          M  \n",
       "3                          F  \n",
       "4                          F  \n",
       "\n",
       "[5 rows x 37 columns]"
      ]
     },
     "execution_count": 9,
     "metadata": {},
     "output_type": "execute_result"
    }
   ],
   "source": [
    "pd.read_json('api_covid/covid_scroll_0.json').head()"
   ]
  },
  {
   "cell_type": "markdown",
   "metadata": {},
   "source": [
    "##### Próximos passos:\n",
    "\n",
    "    > enviar para namenode;\n",
    "    > criar visualizações."
   ]
  }
 ],
 "metadata": {
  "kernelspec": {
   "display_name": "PySpark",
   "language": "python",
   "name": "pyspark"
  },
  "language_info": {
   "codemirror_mode": {
    "name": "ipython",
    "version": 3
   },
   "file_extension": ".py",
   "mimetype": "text/x-python",
   "name": "python",
   "nbconvert_exporter": "python",
   "pygments_lexer": "ipython3",
   "version": "3.6.10"
  }
 },
 "nbformat": 4,
 "nbformat_minor": 2
}
