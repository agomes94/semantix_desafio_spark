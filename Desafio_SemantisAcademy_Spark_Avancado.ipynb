{
 "cells": [
  {
   "cell_type": "markdown",
   "metadata": {},
   "source": [
    "### Projeto Final de Spark - Avançado\n",
    "#### Campanha Nacional de Vacinação contra Covid-19"
   ]
  },
  {
   "cell_type": "markdown",
   "metadata": {},
   "source": [
    "Autor: Arthur Freitas Gomes\n",
    "\n",
    "Turma: Semantix Academy - Big Data Engineer 04-21\n",
    "\n",
    "Professor: Rodrigo Rebouças"
   ]
  },
  {
   "cell_type": "markdown",
   "metadata": {},
   "source": [
    "##### Nível Avançado:\n",
    "\n",
    "Replicar as visualizações do site “https://covid.saude.gov.br/”, porém acessando diretamente a API de Elastic.\n",
    "\n",
    "Link oficial para todas as informações:  https://opendatasus.saude.gov.br/dataset/covid-19-vacinacao\n",
    "\n",
    "Informações para se conectar ao cluster:\n",
    "\n",
    "    > URL https://imunizacao-es.saude.gov.br/desc-imunizacao\n",
    "    > Nome do índice: desc-imunizacao\n",
    "    > Credenciais de acesso\n",
    "    > Usuário: imunizacao_public\n",
    "    > Senha: qlto5t&7r_@+#Tlstigi"
   ]
  },
  {
   "cell_type": "code",
   "execution_count": 118,
   "metadata": {},
   "outputs": [],
   "source": [
    "import requests\n",
    "import pandas as pd"
   ]
  },
  {
   "cell_type": "code",
   "execution_count": 119,
   "metadata": {},
   "outputs": [],
   "source": [
    "#Acesso inicial para gravar '_scroll_id'\n",
    "covid_API = requests.get('https://imunizacao-es.saude.gov.br/_search?scroll=1m',\n",
    "                         auth=requests.auth.HTTPBasicAuth('imunizacao_public', 'qlto5t&7r_@+#Tlstigi'),\n",
    "                         params={\"size\":10000})"
   ]
  },
  {
   "cell_type": "code",
   "execution_count": 130,
   "metadata": {},
   "outputs": [],
   "source": [
    "#covid_API.json()"
   ]
  },
  {
   "cell_type": "code",
   "execution_count": 127,
   "metadata": {},
   "outputs": [
    {
     "data": {
      "text/plain": [
       "'FGluY2x1ZGVfY29udGV4dF91dWlkDnF1ZXJ5VGhlbkZldGNoAxZNS1hZTVE5c1RFV1d5TnBQdV94RHVnAAAAAG06vuAWVGNTY2RHVmdRTUtxVjBiQXFFMEJCURZacERfeXZFNlI4eUpObkU0RGFMMEtRAAAAAG0nMRQWOE1zR2RFMGFSaGl2Zndtc0dnMW9NURY3ZGlmdS1PcFNXbTBxTUhIbWhpdnB3AAAAAGtxAqsWU1BFYmVBMDBRV1dULWt4VDJxczEwUQ=='"
      ]
     },
     "execution_count": 127,
     "metadata": {},
     "output_type": "execute_result"
    }
   ],
   "source": [
    "#'_scroll_id' = id temporário que será utilizado para navegar nos scrolls com 10000 registros cada\n",
    "covid_API.json()['_scroll_id']"
   ]
  },
  {
   "cell_type": "code",
   "execution_count": 128,
   "metadata": {},
   "outputs": [
    {
     "data": {
      "text/plain": [
       "10000"
      ]
     },
     "execution_count": 128,
     "metadata": {},
     "output_type": "execute_result"
    }
   ],
   "source": [
    "#Número de registros por Scroll\n",
    "len(covid_API.json()['hits']['hits'])"
   ]
  },
  {
   "cell_type": "code",
   "execution_count": 123,
   "metadata": {},
   "outputs": [],
   "source": [
    "#Scroll = 0 \n",
    "\n",
    "count_scroll = 0\n",
    "\n",
    "scroll_id = covid_API.json()['_scroll_id']\n",
    "covid_API_scroll = requests.get('https://imunizacao-es.saude.gov.br/_search/scroll',\n",
    "                                auth=requests.auth.HTTPBasicAuth('imunizacao_public', 'qlto5t&7r_@+#Tlstigi'),\n",
    "                                params={\"scroll_id\":scroll_id, \"scroll\":'1m'})\n",
    "\n",
    "#recebe infomações HITS, seleciona dict _source e salva em um json\n",
    "df_loc = pd.DataFrame(covid_API_scroll.json()['hits']['hits'])\n",
    "df_loc['_source'].to_json('api_covid/covid_scroll_'+str(count_scroll)+'.json')"
   ]
  },
  {
   "cell_type": "code",
   "execution_count": 131,
   "metadata": {},
   "outputs": [],
   "source": [
    "#Loop para repetir processo anterior até hit  = 0\n",
    "\n",
    "\"\"\"\n",
    "Cada arquivo .json está com ~15Mb e temos 116.089.044 hits, ou seja, 11.608 arquivos, para o exemplo limitei a 10 arquivos\n",
    "\"\"\"\n",
    "\n",
    "while count_scroll < 10:\n",
    "#while len(covid_API_scroll.json()['hits']['hits']) != 0:\n",
    "    scroll_id = covid_API.json()['_scroll_id']\n",
    "    covid_API_scroll = requests.get('https://imunizacao-es.saude.gov.br/_search/scroll', auth=requests.auth.HTTPBasicAuth('imunizacao_public', 'qlto5t&7r_@+#Tlstigi'), params={\"scroll_id\":scroll_id, \"scroll\":'1m'})\n",
    "\n",
    "    #covid_API_scroll.json()\n",
    "    #covid_API_scroll.json()['hits']['hits']\n",
    "    \n",
    "    count_scroll += 1\n",
    "    df_loc = pd.DataFrame(covid_API_scroll.json()['hits']['hits'])\n",
    "    df_loc['_source'].to_json('api_covid/covid_scroll_'+str(count_scroll)+'.json')\n"
   ]
  },
  {
   "cell_type": "code",
   "execution_count": 132,
   "metadata": {},
   "outputs": [
    {
     "name": "stdout",
     "output_type": "stream",
     "text": [
      "covid_scroll_0.json   covid_scroll_3.json  covid_scroll_7.json\r\n",
      "covid_scroll_1.json   covid_scroll_4.json  covid_scroll_8.json\r\n",
      "covid_scroll_10.json  covid_scroll_5.json  covid_scroll_9.json\r\n",
      "covid_scroll_2.json   covid_scroll_6.json\r\n"
     ]
    }
   ],
   "source": [
    "!ls api_covid/"
   ]
  },
  {
   "cell_type": "code",
   "execution_count": 133,
   "metadata": {},
   "outputs": [
    {
     "data": {
      "text/html": [
       "<div>\n",
       "<style scoped>\n",
       "    .dataframe tbody tr th:only-of-type {\n",
       "        vertical-align: middle;\n",
       "    }\n",
       "\n",
       "    .dataframe tbody tr th {\n",
       "        vertical-align: top;\n",
       "    }\n",
       "\n",
       "    .dataframe thead th {\n",
       "        text-align: right;\n",
       "    }\n",
       "</style>\n",
       "<table border=\"1\" class=\"dataframe\">\n",
       "  <thead>\n",
       "    <tr style=\"text-align: right;\">\n",
       "      <th></th>\n",
       "      <th>estabelecimento_razaoSocial</th>\n",
       "      <th>vacina_dataAplicacao</th>\n",
       "      <th>vacina_grupoAtendimento_codigo</th>\n",
       "      <th>estabelecimento_valor</th>\n",
       "      <th>@timestamp</th>\n",
       "      <th>sistema_origem</th>\n",
       "      <th>vacina_lote</th>\n",
       "      <th>id_sistema_origem</th>\n",
       "      <th>estalecimento_noFantasia</th>\n",
       "      <th>paciente_endereco_coIbgeMunicipio</th>\n",
       "      <th>...</th>\n",
       "      <th>vacina_descricao_dose</th>\n",
       "      <th>vacina_fabricante_nome</th>\n",
       "      <th>vacina_categoria_codigo</th>\n",
       "      <th>paciente_endereco_uf</th>\n",
       "      <th>vacina_categoria_nome</th>\n",
       "      <th>redshift</th>\n",
       "      <th>vacina_nome</th>\n",
       "      <th>paciente_racaCor_valor</th>\n",
       "      <th>paciente_id</th>\n",
       "      <th>paciente_enumSexoBiologico</th>\n",
       "    </tr>\n",
       "  </thead>\n",
       "  <tbody>\n",
       "    <tr>\n",
       "      <th>0</th>\n",
       "      <td>PREFEITURA MUNICIPAL DE SANTO ANDRE</td>\n",
       "      <td>2021-02-16T00:00:00.000Z</td>\n",
       "      <td>000926</td>\n",
       "      <td>0008699</td>\n",
       "      <td>2021-07-09T15:56:02.556Z</td>\n",
       "      <td>VACIVIDA</td>\n",
       "      <td>202010029</td>\n",
       "      <td>18262</td>\n",
       "      <td>UBS JARDIM IRENE</td>\n",
       "      <td>355030</td>\n",
       "      <td>...</td>\n",
       "      <td>2ª Dose</td>\n",
       "      <td>Sinovac</td>\n",
       "      <td>9</td>\n",
       "      <td>SP</td>\n",
       "      <td>Trabalhadores de Saúde</td>\n",
       "      <td>v2</td>\n",
       "      <td>Covid-19-Coronavac-Sinovac/Butantan</td>\n",
       "      <td>SEM INFORMACAO</td>\n",
       "      <td>464ace8c056e3eb67ebdc8ad0a198b74f259d11700003b...</td>\n",
       "      <td>F</td>\n",
       "    </tr>\n",
       "    <tr>\n",
       "      <th>1</th>\n",
       "      <td>MUNICIPIO DE ITAJAI</td>\n",
       "      <td>2021-02-08T00:00:00.000Z</td>\n",
       "      <td>000907</td>\n",
       "      <td>2513870</td>\n",
       "      <td>2021-07-09T15:56:02.557Z</td>\n",
       "      <td>G-MUS</td>\n",
       "      <td>4120Z005</td>\n",
       "      <td>17901</td>\n",
       "      <td>CRESCEM CENTRO DE REFERENCIA DA SAUDE DA CRIAN...</td>\n",
       "      <td>420910</td>\n",
       "      <td>...</td>\n",
       "      <td>1ª Dose</td>\n",
       "      <td>FUNDACAO OSWALDO CRUZ</td>\n",
       "      <td>9</td>\n",
       "      <td>SC</td>\n",
       "      <td>Trabalhadores de Saúde</td>\n",
       "      <td>v2</td>\n",
       "      <td>Vacina Covid-19 - Covishield</td>\n",
       "      <td>BRANCA</td>\n",
       "      <td>2890fdfe35dd36eac48539c3740463bb4862d92e3f86cb...</td>\n",
       "      <td>M</td>\n",
       "    </tr>\n",
       "    <tr>\n",
       "      <th>2</th>\n",
       "      <td>SECRETARIA MUNICIPAL DE SAUDE</td>\n",
       "      <td>2021-01-22T00:00:00.000Z</td>\n",
       "      <td>000926</td>\n",
       "      <td>6449409</td>\n",
       "      <td>2021-07-09T15:56:02.225Z</td>\n",
       "      <td>Novo PNI</td>\n",
       "      <td>202010031</td>\n",
       "      <td>16341</td>\n",
       "      <td>SECRETARIA MUNICIPAL DE SAUDE DE GOIANIA</td>\n",
       "      <td>330455</td>\n",
       "      <td>...</td>\n",
       "      <td>1ª Dose</td>\n",
       "      <td>FUNDACAO BUTANTAN</td>\n",
       "      <td>9</td>\n",
       "      <td>RJ</td>\n",
       "      <td>Trabalhadores de Saúde</td>\n",
       "      <td>v2</td>\n",
       "      <td>Covid-19-Coronavac-Sinovac/Butantan</td>\n",
       "      <td>SEM INFORMACAO</td>\n",
       "      <td>889cef0b8fbe6cc8f2cf4057fdf5cd7b8bb5b87457c89b...</td>\n",
       "      <td>F</td>\n",
       "    </tr>\n",
       "    <tr>\n",
       "      <th>3</th>\n",
       "      <td>IRMANDADE DA SANTA CASA DE MISERICORDIA DE MAUA</td>\n",
       "      <td>2021-02-05T00:00:00.000Z</td>\n",
       "      <td>000926</td>\n",
       "      <td>2751747</td>\n",
       "      <td>2021-07-09T15:56:02.225Z</td>\n",
       "      <td>VACIVIDA</td>\n",
       "      <td>202010029</td>\n",
       "      <td>18262</td>\n",
       "      <td>SANTA CASA DE MAUA</td>\n",
       "      <td>352940</td>\n",
       "      <td>...</td>\n",
       "      <td>1ª Dose</td>\n",
       "      <td>Sinovac</td>\n",
       "      <td>9</td>\n",
       "      <td>SP</td>\n",
       "      <td>Trabalhadores de Saúde</td>\n",
       "      <td>v2</td>\n",
       "      <td>Covid-19-Coronavac-Sinovac/Butantan</td>\n",
       "      <td>PARDA</td>\n",
       "      <td>6e92378d3c4fa812b264d2d917cd97c4f3e1040b663991...</td>\n",
       "      <td>F</td>\n",
       "    </tr>\n",
       "    <tr>\n",
       "      <th>4</th>\n",
       "      <td>MUNICIPIO DE ITAJAI</td>\n",
       "      <td>2021-02-10T00:00:00.000Z</td>\n",
       "      <td>000801</td>\n",
       "      <td>6539858</td>\n",
       "      <td>2021-07-09T15:56:02.225Z</td>\n",
       "      <td>G-MUS</td>\n",
       "      <td>4120Z005</td>\n",
       "      <td>17901</td>\n",
       "      <td>SECRETARIA MUNICIPAL DE SAUDE DE ITAJAI</td>\n",
       "      <td>420820</td>\n",
       "      <td>...</td>\n",
       "      <td>1ª Dose</td>\n",
       "      <td>FUNDACAO OSWALDO CRUZ</td>\n",
       "      <td>8</td>\n",
       "      <td>SC</td>\n",
       "      <td>Trabalhadores da Educação</td>\n",
       "      <td>v2</td>\n",
       "      <td>Vacina Covid-19 - Covishield</td>\n",
       "      <td>PARDA</td>\n",
       "      <td>8236dd899effef95aaf2f73e18fc59a437f3028c8dd916...</td>\n",
       "      <td>M</td>\n",
       "    </tr>\n",
       "  </tbody>\n",
       "</table>\n",
       "<p>5 rows × 37 columns</p>\n",
       "</div>"
      ],
      "text/plain": [
       "                       estabelecimento_razaoSocial      vacina_dataAplicacao  \\\n",
       "0              PREFEITURA MUNICIPAL DE SANTO ANDRE  2021-02-16T00:00:00.000Z   \n",
       "1                              MUNICIPIO DE ITAJAI  2021-02-08T00:00:00.000Z   \n",
       "2                    SECRETARIA MUNICIPAL DE SAUDE  2021-01-22T00:00:00.000Z   \n",
       "3  IRMANDADE DA SANTA CASA DE MISERICORDIA DE MAUA  2021-02-05T00:00:00.000Z   \n",
       "4                              MUNICIPIO DE ITAJAI  2021-02-10T00:00:00.000Z   \n",
       "\n",
       "  vacina_grupoAtendimento_codigo estabelecimento_valor  \\\n",
       "0                         000926               0008699   \n",
       "1                         000907               2513870   \n",
       "2                         000926               6449409   \n",
       "3                         000926               2751747   \n",
       "4                         000801               6539858   \n",
       "\n",
       "                 @timestamp sistema_origem vacina_lote id_sistema_origem  \\\n",
       "0  2021-07-09T15:56:02.556Z       VACIVIDA   202010029             18262   \n",
       "1  2021-07-09T15:56:02.557Z          G-MUS    4120Z005             17901   \n",
       "2  2021-07-09T15:56:02.225Z       Novo PNI   202010031             16341   \n",
       "3  2021-07-09T15:56:02.225Z       VACIVIDA   202010029             18262   \n",
       "4  2021-07-09T15:56:02.225Z          G-MUS    4120Z005             17901   \n",
       "\n",
       "                            estalecimento_noFantasia  \\\n",
       "0                                   UBS JARDIM IRENE   \n",
       "1  CRESCEM CENTRO DE REFERENCIA DA SAUDE DA CRIAN...   \n",
       "2           SECRETARIA MUNICIPAL DE SAUDE DE GOIANIA   \n",
       "3                                 SANTA CASA DE MAUA   \n",
       "4            SECRETARIA MUNICIPAL DE SAUDE DE ITAJAI   \n",
       "\n",
       "  paciente_endereco_coIbgeMunicipio  ... vacina_descricao_dose  \\\n",
       "0                            355030  ...               2ª Dose   \n",
       "1                            420910  ...               1ª Dose   \n",
       "2                            330455  ...               1ª Dose   \n",
       "3                            352940  ...               1ª Dose   \n",
       "4                            420820  ...               1ª Dose   \n",
       "\n",
       "  vacina_fabricante_nome vacina_categoria_codigo paciente_endereco_uf  \\\n",
       "0                Sinovac                       9                   SP   \n",
       "1  FUNDACAO OSWALDO CRUZ                       9                   SC   \n",
       "2      FUNDACAO BUTANTAN                       9                   RJ   \n",
       "3                Sinovac                       9                   SP   \n",
       "4  FUNDACAO OSWALDO CRUZ                       8                   SC   \n",
       "\n",
       "       vacina_categoria_nome redshift                          vacina_nome  \\\n",
       "0     Trabalhadores de Saúde       v2  Covid-19-Coronavac-Sinovac/Butantan   \n",
       "1     Trabalhadores de Saúde       v2         Vacina Covid-19 - Covishield   \n",
       "2     Trabalhadores de Saúde       v2  Covid-19-Coronavac-Sinovac/Butantan   \n",
       "3     Trabalhadores de Saúde       v2  Covid-19-Coronavac-Sinovac/Butantan   \n",
       "4  Trabalhadores da Educação       v2         Vacina Covid-19 - Covishield   \n",
       "\n",
       "  paciente_racaCor_valor                                        paciente_id  \\\n",
       "0         SEM INFORMACAO  464ace8c056e3eb67ebdc8ad0a198b74f259d11700003b...   \n",
       "1                 BRANCA  2890fdfe35dd36eac48539c3740463bb4862d92e3f86cb...   \n",
       "2         SEM INFORMACAO  889cef0b8fbe6cc8f2cf4057fdf5cd7b8bb5b87457c89b...   \n",
       "3                  PARDA  6e92378d3c4fa812b264d2d917cd97c4f3e1040b663991...   \n",
       "4                  PARDA  8236dd899effef95aaf2f73e18fc59a437f3028c8dd916...   \n",
       "\n",
       "  paciente_enumSexoBiologico  \n",
       "0                          F  \n",
       "1                          M  \n",
       "2                          F  \n",
       "3                          F  \n",
       "4                          M  \n",
       "\n",
       "[5 rows x 37 columns]"
      ]
     },
     "execution_count": 133,
     "metadata": {},
     "output_type": "execute_result"
    }
   ],
   "source": [
    "pd.read_json('api_covid/covid_scroll_0.json').T.head()"
   ]
  },
  {
   "cell_type": "markdown",
   "metadata": {},
   "source": [
    "##### Próximos passos:\n",
    "\n",
    "    > enviar para namenode;\n",
    "    > criar visualizações."
   ]
  }
 ],
 "metadata": {
  "kernelspec": {
   "display_name": "PySpark",
   "language": "python",
   "name": "pyspark"
  },
  "language_info": {
   "codemirror_mode": {
    "name": "ipython",
    "version": 3
   },
   "file_extension": ".py",
   "mimetype": "text/x-python",
   "name": "python",
   "nbconvert_exporter": "python",
   "pygments_lexer": "ipython3",
   "version": "3.6.10"
  }
 },
 "nbformat": 4,
 "nbformat_minor": 2
}
