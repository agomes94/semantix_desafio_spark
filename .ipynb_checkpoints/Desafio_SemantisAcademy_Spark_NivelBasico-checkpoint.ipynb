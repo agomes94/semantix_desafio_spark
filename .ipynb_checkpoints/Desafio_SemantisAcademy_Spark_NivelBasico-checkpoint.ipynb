{
 "cells": [
  {
   "cell_type": "markdown",
   "metadata": {},
   "source": [
    "### Projeto Final de Spark\n",
    "#### Campanha Nacional de Vacinação contra Covid-19"
   ]
  },
  {
   "cell_type": "markdown",
   "metadata": {},
   "source": [
    "Autor: Arthur Freitas Gomes\n",
    "\n",
    "Turma: Semantix Academy - Big Data Engineer 04-21\n",
    "\n",
    "Professor: Rodrigo Rebouças"
   ]
  },
  {
   "cell_type": "markdown",
   "metadata": {},
   "source": [
    "#### Enviar os dados para o hdfs"
   ]
  },
  {
   "cell_type": "markdown",
   "metadata": {},
   "source": [
    "No terminal:\n",
    "\n",
    "agomes:~/spark/input$ sudo mkdir desafio\n",
    "\n",
    "agomes:~/spark/input/desafio$ sudo curl -O https://mobileapps.saude.gov.br/esus-vepi/files/unAFkcaNDeXajurGB7LChj8SgQYS2ptm/04bd3419b22b9cc5c6efac2c6528100d_HIST_PAINEL_COVIDBR_06jul2021.rar\n",
    "\n",
    "agome:~/spark/input/desafio$ sudo unrar x 04bd3419b22b9cc5c6efac2c6528100d_HIST_PAINEL_COVIDBR_06jul2021.rar\n",
    "\n",
    "agomes:~/spark/input/desafio$ docker exec -it namenode bash\n",
    "\n",
    "    root@namenode:/# hdfs dfs -mkdir -p /user/arthur/desafio\n",
    "    root@namenode:/# hdfs dfs -put /input/desafio/* /user/arthur/desafio\n",
    "    root@namenode:/# hdfs dfs -ls /user/arthur/desafio"
   ]
  },
  {
   "cell_type": "code",
   "execution_count": 1,
   "metadata": {},
   "outputs": [
    {
     "name": "stdout",
     "output_type": "stream",
     "text": [
      "Found 6 items\r\n",
      "-rw-r--r--   3 root supergroup   62492959 2021-07-08 09:17 /user/arthur/desafio/HIST_PAINEL_COVIDBR_2020_Parte1_06jul2021.csv\r\n",
      "-rw-r--r--   3 root supergroup   76520681 2021-07-08 09:17 /user/arthur/desafio/HIST_PAINEL_COVIDBR_2020_Parte2_06jul2021.csv\r\n",
      "-rw-r--r--   3 root supergroup   91120916 2021-07-08 09:17 /user/arthur/desafio/HIST_PAINEL_COVIDBR_2021_Parte1_06jul2021.csv\r\n",
      "-rw-r--r--   3 root supergroup    3046774 2021-07-08 09:17 /user/arthur/desafio/HIST_PAINEL_COVIDBR_2021_Parte2_06jul2021.csv\r\n",
      "drwxr-xr-x   - root supergroup          0 2021-07-09 00:01 /user/arthur/desafio/covid_spark\r\n",
      "drwxr-xr-x   - root supergroup          0 2021-07-09 00:02 /user/arthur/desafio/hive\r\n"
     ]
    }
   ],
   "source": [
    "!hdfs dfs -ls /user/arthur/desafio"
   ]
  },
  {
   "cell_type": "code",
   "execution_count": 2,
   "metadata": {},
   "outputs": [
    {
     "name": "stdout",
     "output_type": "stream",
     "text": [
      "rm: `/user/arthur/desafio/04bd3419b22b9cc5c6efac2c6528100d_HIST_PAINEL_COVIDBR_06jul2021.rar': No such file or directory\r\n"
     ]
    }
   ],
   "source": [
    "!hdfs dfs -rm /user/arthur/desafio/04bd3419b22b9cc5c6efac2c6528100d_HIST_PAINEL_COVIDBR_06jul2021.rar"
   ]
  },
  {
   "cell_type": "markdown",
   "metadata": {},
   "source": [
    "#### Otimizar todos os dados do hdfs para uma tabela Hive particionada por município"
   ]
  },
  {
   "cell_type": "code",
   "execution_count": 3,
   "metadata": {},
   "outputs": [],
   "source": [
    "from pyspark.sql.functions import *\n",
    "from pyspark.sql.types import *"
   ]
  },
  {
   "cell_type": "code",
   "execution_count": 12,
   "metadata": {},
   "outputs": [],
   "source": [
    "covid = spark.read.csv(\"/user/arthur/desafio/*.csv\", header='true',sep=';')"
   ]
  },
  {
   "cell_type": "code",
   "execution_count": 13,
   "metadata": {},
   "outputs": [],
   "source": [
    "covid = covid.na.fill({'coduf': 0})"
   ]
  },
  {
   "cell_type": "code",
   "execution_count": 14,
   "metadata": {},
   "outputs": [],
   "source": [
    "#covid.select(isnan('municipio')).filter(\"isnan(municipio) = true\").show()"
   ]
  },
  {
   "cell_type": "code",
   "execution_count": 15,
   "metadata": {},
   "outputs": [],
   "source": [
    "covid = covid.withColumnRenamed(\"interior/metropolitana\", \"interiorOUmetropolitana\")\n",
    "covid = covid.withColumn(\"col_partition\", col(\"coduf\"))"
   ]
  },
  {
   "cell_type": "code",
   "execution_count": 16,
   "metadata": {},
   "outputs": [
    {
     "data": {
      "text/plain": [
       "DataFrame[summary: string, regiao: string, estado: string, municipio: string, coduf: string, codmun: string, codRegiaoSaude: string, nomeRegiaoSaude: string, data: string, semanaEpi: string, populacaoTCU2019: string, casosAcumulado: string, casosNovos: string, obitosAcumulado: string, obitosNovos: string, Recuperadosnovos: string, emAcompanhamentoNovos: string, interiorOUmetropolitana: string, col_partition: string]"
      ]
     },
     "execution_count": 16,
     "metadata": {},
     "output_type": "execute_result"
    }
   ],
   "source": [
    "covid.describe()"
   ]
  },
  {
   "cell_type": "code",
   "execution_count": 17,
   "metadata": {},
   "outputs": [],
   "source": [
    "#!hdfs dfs -rm -r /user/arthur/desafio/covid_spark\n",
    "covid.write.csv('/user/arthur/desafio/covid_spark', header='true')"
   ]
  },
  {
   "cell_type": "code",
   "execution_count": 18,
   "metadata": {},
   "outputs": [
    {
     "name": "stdout",
     "output_type": "stream",
     "text": [
      "Found 13 items\r\n",
      "-rw-r--r--   2 root supergroup          0 2021-07-09 06:27 /user/arthur/desafio/covid_spark/_SUCCESS\r\n",
      "-rw-r--r--   2 root supergroup   22280175 2021-07-09 06:27 /user/arthur/desafio/covid_spark/part-00000-1199e39d-03fb-4d68-a554-9b0eacb6b528-c000.csv\r\n",
      "-rw-r--r--   2 root supergroup   22282685 2021-07-09 06:27 /user/arthur/desafio/covid_spark/part-00001-1199e39d-03fb-4d68-a554-9b0eacb6b528-c000.csv\r\n",
      "-rw-r--r--   2 root supergroup   22286237 2021-07-09 06:27 /user/arthur/desafio/covid_spark/part-00002-1199e39d-03fb-4d68-a554-9b0eacb6b528-c000.csv\r\n",
      "-rw-r--r--   2 root supergroup   22243026 2021-07-09 06:27 /user/arthur/desafio/covid_spark/part-00003-1199e39d-03fb-4d68-a554-9b0eacb6b528-c000.csv\r\n",
      "-rw-r--r--   2 root supergroup   22257577 2021-07-09 06:27 /user/arthur/desafio/covid_spark/part-00004-1199e39d-03fb-4d68-a554-9b0eacb6b528-c000.csv\r\n",
      "-rw-r--r--   2 root supergroup   22250891 2021-07-09 06:27 /user/arthur/desafio/covid_spark/part-00005-1199e39d-03fb-4d68-a554-9b0eacb6b528-c000.csv\r\n",
      "-rw-r--r--   2 root supergroup   22243980 2021-07-09 06:27 /user/arthur/desafio/covid_spark/part-00006-1199e39d-03fb-4d68-a554-9b0eacb6b528-c000.csv\r\n",
      "-rw-r--r--   2 root supergroup   22247202 2021-07-09 06:27 /user/arthur/desafio/covid_spark/part-00007-1199e39d-03fb-4d68-a554-9b0eacb6b528-c000.csv\r\n",
      "-rw-r--r--   2 root supergroup   22239628 2021-07-09 06:27 /user/arthur/desafio/covid_spark/part-00008-1199e39d-03fb-4d68-a554-9b0eacb6b528-c000.csv\r\n",
      "-rw-r--r--   2 root supergroup   22279859 2021-07-09 06:27 /user/arthur/desafio/covid_spark/part-00009-1199e39d-03fb-4d68-a554-9b0eacb6b528-c000.csv\r\n",
      "-rw-r--r--   2 root supergroup   15004497 2021-07-09 06:27 /user/arthur/desafio/covid_spark/part-00010-1199e39d-03fb-4d68-a554-9b0eacb6b528-c000.csv\r\n",
      "-rw-r--r--   2 root supergroup   11559022 2021-07-09 06:27 /user/arthur/desafio/covid_spark/part-00011-1199e39d-03fb-4d68-a554-9b0eacb6b528-c000.csv\r\n"
     ]
    }
   ],
   "source": [
    "!hdfs dfs -ls /user/arthur/desafio/covid_spark"
   ]
  },
  {
   "cell_type": "code",
   "execution_count": 20,
   "metadata": {},
   "outputs": [
    {
     "name": "stdout",
     "output_type": "stream",
     "text": [
      "45872,629,4169,13,\"\",\"\",1,53\r\n",
      "Centro-Oeste,DF,Brasília,53,530010,53001,DISTRITO FEDERAL,2020-12-23,52,3015268,246397,525,4181,12,\"\",\"\",1,53\r\n",
      "Centro-Oeste,DF,Brasília,53,530010,53001,DISTRITO FEDERAL,2020-12-24,52,3015268,246949,552,4188,7,\"\",\"\",1,53\r\n",
      "Centro-Oeste,DF,Brasília,53,530010,53001,DISTRITO FEDERAL,2020-12-25,52,3015268,247278,329,4192,4,\"\",\"\",1,53\r\n",
      "Centro-Oeste,DF,Brasília,53,530010,53001,DISTRITO FEDERAL,2020-12-26,52,3015268,247928,650,4198,6,\"\",\"\",1,53\r\n",
      "Centro-Oeste,DF,Brasília,53,530010,53001,DISTRITO FEDERAL,2020-12-27,53,3015268,248543,615,4201,3,\"\",\"\",1,53\r\n",
      "Centro-Oeste,DF,Brasília,53,530010,53001,DISTRITO FEDERAL,2020-12-28,53,3015268,249736,1193,4223,22,\"\",\"\",1,53\r\n",
      "Centro-Oeste,DF,Brasília,53,530010,53001,DISTRITO FEDERAL,2020-12-29,53,3015268,250457,721,4241,18,\"\",\"\",1,53\r\n",
      "Centro-Oeste,DF,Brasília,53,530010,53001,DISTRITO FEDERAL,2020-12-30,53,3015268,251135,678,4248,7,\"\",\"\",1,53\r\n",
      "Centro-Oeste,DF,Brasília,53,530010,53001,DISTRITO FEDERAL,2020-12-31,53,3015268,251701,566,4259,11,\"\",\"\",1,53\r\n"
     ]
    }
   ],
   "source": [
    "!hdfs dfs -tail /user/arthur/desafio/covid_spark/part-00010-1199e39d-03fb-4d68-a554-9b0eacb6b528-c000.csv"
   ]
  },
  {
   "cell_type": "code",
   "execution_count": 21,
   "metadata": {},
   "outputs": [
    {
     "name": "stdout",
     "output_type": "stream",
     "text": [
      "Deleted /user/arthur/desafio/hive\r\n"
     ]
    }
   ],
   "source": [
    "#!hdfs dfs -rm -r /user/arthur/desafio/hive"
   ]
  },
  {
   "cell_type": "markdown",
   "metadata": {},
   "source": [
    "No terminal\n",
    "\n",
    "agomes:~/spark$ docker exec -it hive-server bash\n",
    "\n",
    "    root@hive_server:/opt# beeline -u jdbc:hive2://localhost:10000\n",
    "    \n",
    "    0: jdbc:hive2://localhost:10000> create database arthur;\n",
    "    0: jdbc:hive2://localhost:10000> show databases;\n",
    "    +----------------+\n",
    "    | database_name  |\n",
    "    +----------------+\n",
    "    | arthur         |\n",
    "    | default        |\n",
    "    +----------------+\n",
    "\n",
    "    0: jdbc:hive2://localhost:10000> use arthur;\n",
    "       \n",
    "    0: jdbc:hive2://localhost:10000> create external table covid(regiao string,estado string,municipio string,coduf int,codmun int,codRegiaoSaude int,nomeRegiaoSaude string,data string,semanaEpi int,populacaoTCU2019 int,casosAcumulado int,casosNovos int,obitosAcumulado int,obitosNovos int,Recuperadosnovos int,emAcompanhamentoNovos int,interiorOUmetropolitana string, col_partition int) row format delimited fields terminated by ',' lines terminated by '\\n' stored as textfile location 'hdfs://namenode:8020/user/arthur/desafio/hive/sem_partition' tblproperties(\"skip.header.line.count\"=\"1\");\n",
    "    \n",
    "    #Para ver estrutura\n",
    "    0: jdbc:hive2://localhost:10000> desc formatted covid; \n",
    "    \n",
    "    0: jdbc:hive2://localhost:10000> load data inpath '/user/arthur/desafio/covid_spark/*.csv' overwrite into table covid;\n",
    "    \n",
    "    0: jdbc:hive2://localhost:10000> select * from covid limit 10;\n",
    "    \n",
    "    #Para permitir Particionamento Dinâmico\n",
    "    0: jdbc:hive2://localhost:10000> SET hive.exec.dynamic.partition = true;\n",
    "\n",
    "    0: jdbc:hive2://localhost:10000> SET hive.exec.dynamic.partition.mode = nonstrict;\n",
    "    \n",
    "    0: jdbc:hive2://localhost:10000> create external table covid_otm(regiao string,estado string, municipio string,coduf int,codmun int,codRegiaoSaude int,nomeRegiaoSaude string,data string,semanaEpi int,populacaoTCU2019 int,casosAcumulado int,casosNovos int,obitosAcumulado int,obitosNovos int,Recuperadosnovos int,emAcompanhamentoNovos int,interiorOUmetropolitana string) partitioned by (col_partition int) row format delimited fields terminated by ',' lines terminated by '\\n' stored as textfile location 'hdfs://namenode:8020/user/arthur/desafio/hive/otm' tblproperties(\"skip.header.line.count\"=\"1\");\n",
    "    \n",
    "    0: jdbc:hive2://localhost:10000> insert overwrite table covid_otm partition (col_partition) select * from covid;\n"
   ]
  },
  {
   "cell_type": "code",
   "execution_count": 24,
   "metadata": {},
   "outputs": [
    {
     "name": "stdout",
     "output_type": "stream",
     "text": [
      "Found 30 items\n",
      "drwxr-xr-x   - root supergroup          0 2021-07-09 06:34 /user/arthur/desafio/hive/otm/col_partition=0\n",
      "drwxr-xr-x   - root supergroup          0 2021-07-09 06:34 /user/arthur/desafio/hive/otm/col_partition=1\n",
      "drwxr-xr-x   - root supergroup          0 2021-07-09 06:34 /user/arthur/desafio/hive/otm/col_partition=11\n",
      "drwxr-xr-x   - root supergroup          0 2021-07-09 06:34 /user/arthur/desafio/hive/otm/col_partition=12\n",
      "drwxr-xr-x   - root supergroup          0 2021-07-09 06:34 /user/arthur/desafio/hive/otm/col_partition=13\n",
      "drwxr-xr-x   - root supergroup          0 2021-07-09 06:34 /user/arthur/desafio/hive/otm/col_partition=14\n",
      "drwxr-xr-x   - root supergroup          0 2021-07-09 06:34 /user/arthur/desafio/hive/otm/col_partition=15\n",
      "drwxr-xr-x   - root supergroup          0 2021-07-09 06:34 /user/arthur/desafio/hive/otm/col_partition=16\n",
      "drwxr-xr-x   - root supergroup          0 2021-07-09 06:34 /user/arthur/desafio/hive/otm/col_partition=17\n",
      "drwxr-xr-x   - root supergroup          0 2021-07-09 06:34 /user/arthur/desafio/hive/otm/col_partition=21\n",
      "drwxr-xr-x   - root supergroup          0 2021-07-09 06:34 /user/arthur/desafio/hive/otm/col_partition=22\n",
      "drwxr-xr-x   - root supergroup          0 2021-07-09 06:34 /user/arthur/desafio/hive/otm/col_partition=23\n",
      "drwxr-xr-x   - root supergroup          0 2021-07-09 06:34 /user/arthur/desafio/hive/otm/col_partition=24\n",
      "drwxr-xr-x   - root supergroup          0 2021-07-09 06:34 /user/arthur/desafio/hive/otm/col_partition=25\n",
      "drwxr-xr-x   - root supergroup          0 2021-07-09 06:34 /user/arthur/desafio/hive/otm/col_partition=26\n",
      "drwxr-xr-x   - root supergroup          0 2021-07-09 06:34 /user/arthur/desafio/hive/otm/col_partition=27\n",
      "drwxr-xr-x   - root supergroup          0 2021-07-09 06:34 /user/arthur/desafio/hive/otm/col_partition=28\n",
      "drwxr-xr-x   - root supergroup          0 2021-07-09 06:34 /user/arthur/desafio/hive/otm/col_partition=29\n",
      "drwxr-xr-x   - root supergroup          0 2021-07-09 06:34 /user/arthur/desafio/hive/otm/col_partition=31\n",
      "drwxr-xr-x   - root supergroup          0 2021-07-09 06:34 /user/arthur/desafio/hive/otm/col_partition=32\n",
      "drwxr-xr-x   - root supergroup          0 2021-07-09 06:34 /user/arthur/desafio/hive/otm/col_partition=33\n",
      "drwxr-xr-x   - root supergroup          0 2021-07-09 06:34 /user/arthur/desafio/hive/otm/col_partition=35\n",
      "drwxr-xr-x   - root supergroup          0 2021-07-09 06:34 /user/arthur/desafio/hive/otm/col_partition=41\n",
      "drwxr-xr-x   - root supergroup          0 2021-07-09 06:34 /user/arthur/desafio/hive/otm/col_partition=42\n",
      "drwxr-xr-x   - root supergroup          0 2021-07-09 06:34 /user/arthur/desafio/hive/otm/col_partition=43\n",
      "drwxr-xr-x   - root supergroup          0 2021-07-09 06:34 /user/arthur/desafio/hive/otm/col_partition=50\n",
      "drwxr-xr-x   - root supergroup          0 2021-07-09 06:34 /user/arthur/desafio/hive/otm/col_partition=51\n",
      "drwxr-xr-x   - root supergroup          0 2021-07-09 06:34 /user/arthur/desafio/hive/otm/col_partition=52\n",
      "drwxr-xr-x   - root supergroup          0 2021-07-09 06:34 /user/arthur/desafio/hive/otm/col_partition=53\n",
      "drwxr-xr-x   - root supergroup          0 2021-07-09 06:34 /user/arthur/desafio/hive/otm/col_partition=76\n"
     ]
    }
   ],
   "source": [
    "!hdfs dfs -ls /user/arthur/desafio/hive/otm"
   ]
  },
  {
   "cell_type": "markdown",
   "metadata": {},
   "source": [
    "    "
   ]
  }
 ],
 "metadata": {
  "kernelspec": {
   "display_name": "PySpark",
   "language": "python",
   "name": "pyspark"
  },
  "language_info": {
   "codemirror_mode": {
    "name": "ipython",
    "version": 3
   },
   "file_extension": ".py",
   "mimetype": "text/x-python",
   "name": "python",
   "nbconvert_exporter": "python",
   "pygments_lexer": "ipython3",
   "version": "3.6.10"
  }
 },
 "nbformat": 4,
 "nbformat_minor": 2
}
